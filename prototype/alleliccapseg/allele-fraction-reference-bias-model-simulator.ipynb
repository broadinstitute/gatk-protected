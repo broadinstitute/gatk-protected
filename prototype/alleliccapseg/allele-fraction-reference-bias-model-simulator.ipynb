{
 "cells": [
  {
   "cell_type": "code",
   "execution_count": null,
   "metadata": {
    "collapsed": false
   },
   "outputs": [],
   "source": [
    "%pylab inline"
   ]
  },
  {
   "cell_type": "code",
   "execution_count": null,
   "metadata": {
    "collapsed": true
   },
   "outputs": [],
   "source": [
    "import os\n",
    "import pandas as pd"
   ]
  },
  {
   "cell_type": "code",
   "execution_count": null,
   "metadata": {
    "collapsed": true
   },
   "outputs": [],
   "source": [
    "num_samples = 20\n",
    "num_segments = 200\n",
    "min_num_snps = 3\n",
    "outlier_rate = 0.01\n",
    "noise_floor = 0.1\n",
    "no_deletions = 1\n",
    "\n",
    "mean_coverage = 50\n",
    "alt_minor_fraction = 0.5"
   ]
  },
  {
   "cell_type": "code",
   "execution_count": null,
   "metadata": {
    "collapsed": false
   },
   "outputs": [],
   "source": [
    "def plot_vs_index(quantities, ylimits=None, yaxis='', thick_axhlines=[], thin_axhlines=[], **kwargs):\n",
    "    figsize(20, 4)\n",
    "    scatter(range(len(quantities)), quantities, **kwargs)\n",
    "    for line in thick_axhlines:\n",
    "        axhline(line, lw=2)\n",
    "    for line in thin_axhlines:\n",
    "        axhline(line, lw=0.25)\n",
    "    xlim([0, len(quantities)])\n",
    "    if ylimits is not None:\n",
    "        ylim(ylimits)\n",
    "    xlabel('index', fontsize=14)\n",
    "    ylabel(yaxis, fontsize=14)\n",
    "    \n",
    "def alt_prob(minor_allele_fraction, is_alt_minor, ref_alt_bias_ratio, is_outlier):\n",
    "    #uniform outlier + 2 x binomial mixture\n",
    "    return is_outlier * random.uniform(0, 1, len(minor_allele_fraction)) + \\\n",
    "           (1 - is_outlier) * \\\n",
    "           ((minor_allele_fraction == 0) * \\\n",
    "            (is_alt_minor * random.uniform(0, noise_floor, len(minor_allele_fraction)) + \\\n",
    "             (1 - is_alt_minor) * (1 - random.uniform(0, noise_floor, len(minor_allele_fraction)))) + \\\n",
    "           (minor_allele_fraction != 0) * \\\n",
    "            (is_alt_minor / (1 + ref_alt_bias_ratio * (1. / (minor_allele_fraction + 1E-6) - 1)) + \\\n",
    "             (1 - is_alt_minor) / (1 + ref_alt_bias_ratio / (1. / (minor_allele_fraction + 1E-6) - 1))))"
   ]
  },
  {
   "cell_type": "code",
   "execution_count": null,
   "metadata": {
    "collapsed": false
   },
   "outputs": [],
   "source": [
    "#create 'samples/' directory to store output\n",
    "if not os.path.exists('samples/'):\n",
    "    os.mkdir('samples')\n",
    "\n",
    "alpha_beta_output = []\n",
    "for sample in range(num_samples):\n",
    "    #number of snps per segment is chosen from GAMMA distribution\n",
    "    num_snps_per_segment = min_num_snps + np.round(random.gamma(0.5, 250, num_segments)).astype(int64)\n",
    "    num_snps = sum(num_snps_per_segment)\n",
    "    \n",
    "    #parameters for gamma (allele-fraction bias); gamma ~ 2 / (2 + GAMMA(alpha, beta))\n",
    "    #see below for examples of distributions of mean(gamma) over samples and of gamma over snps within samples\n",
    "    alpha = random.uniform(0.01, 50)\n",
    "    beta = 0.05 / alpha * random.uniform(0.01, 5)\n",
    "    ref_alt_bias_ratio_per_snp = 1 + random.gamma(alpha, beta, num_snps)\n",
    "    mean_bias = mean(2. / (1 + ref_alt_bias_ratio_per_snp))\n",
    "    \n",
    "    #ref and alt copy numbers are drawn from GAMMA distributions peaked at 1\n",
    "    ref_number_per_segment = np.round(0.25 + random.gamma(1.5, 1.25, num_segments))\n",
    "    alt_number_per_segment = np.round(0.25 + random.gamma(1.5, 1.25, num_segments))\n",
    "    if no_deletions:\n",
    "        #noise model for deletions is not decided, so we can ignore them for now\n",
    "        ref_number_per_segment = maximum(1., ref_number_per_segment)\n",
    "        alt_number_per_segment = maximum(1., alt_number_per_segment)\n",
    "    copy_number_per_segment = ref_number_per_segment + alt_number_per_segment\n",
    "    \n",
    "    true_minor_allele_fraction_per_segment = minimum(ref_number_per_segment, alt_number_per_segment) / \\\n",
    "                                                 maximum(1., copy_number_per_segment)\n",
    "        \n",
    "    true_minor_allele_fraction_per_snp = repeat(true_minor_allele_fraction_per_segment, num_snps_per_segment)\n",
    "    is_outlier_per_snp = random.binomial(1, outlier_rate, num_snps)\n",
    "    \n",
    "    segment_index_per_snp = repeat(range(num_segments), num_snps_per_segment)\n",
    "\n",
    "    reads_per_snp = random.poisson(mean_coverage, num_snps)\n",
    "    is_alt_minor_per_snp = random.binomial(1, alt_minor_fraction, num_snps)\n",
    "    alt_reads_per_snp = random.binomial(reads_per_snp, \n",
    "                                        alt_prob(true_minor_allele_fraction_per_snp, \n",
    "                                                 is_alt_minor_per_snp,\n",
    "                                                 ref_alt_bias_ratio_per_snp,\n",
    "                                                 is_outlier_per_snp))\n",
    "    ref_reads_per_snp = reads_per_snp - alt_reads_per_snp\n",
    "    alt_allele_fraction_per_snp = alt_reads_per_snp / reads_per_snp.astype(float64)\n",
    "    minor_allele_fraction_per_snp = minimum(ref_reads_per_snp, alt_reads_per_snp) / reads_per_snp.astype(float64)\n",
    "    \n",
    "    allele_counts_pd = pd.DataFrame(zip(segment_index_per_snp, ref_reads_per_snp, alt_reads_per_snp),\n",
    "                                    columns=['SEGMENT', 'REF_COUNT', 'ALT_COUNT'])\n",
    "    allele_counts_pd.to_csv('samples/{:02d}'.format(sample) + '.tsv', sep='\\t')\n",
    "    \n",
    "    alpha_beta_output += [[sample, alpha, beta, mean_bias]]\n",
    "    \n",
    "    plot_vs_index(alt_allele_fraction_per_snp, marker=\".\", alpha=0.5)\n",
    "    title(r'sample {:02d}, $\\alpha$ = {:2.2f}, $\\beta$ = {:2.2e}, $\\gamma$ = {:2.2f}'\n",
    "          .format(sample, alpha, beta, mean_bias), fontsize=18)\n",
    "    xlabel('SNP index')\n",
    "    ylabel('alternate allele fraction')\n",
    "    savefig('samples/{:02d}-AAF'.format(sample) + '.png')\n",
    "    close()\n",
    "#     plot_vs_index(minor_allele_fraction_per_snp, marker=\".\", alpha=0.5)\n",
    "\n",
    "alpha_beta_pd = pd.DataFrame(alpha_beta_output,\n",
    "                             columns=['SAMPLE', 'ALPHA', 'BETA', 'MEAN_BIAS'])\n",
    "alpha_beta_pd.to_csv('samples/truth.tsv', sep='\\t')"
   ]
  },
  {
   "cell_type": "code",
   "execution_count": null,
   "metadata": {
    "collapsed": false
   },
   "outputs": [],
   "source": [
    "num_dist_samples = 20\n",
    "alpha_per_sample = random.uniform(0.01, 50, num_dist_samples)\n",
    "beta_per_sample = 0.05 / alpha_per_sample * random.uniform(0.01, 5, num_dist_samples)\n",
    "gamma_bias_per_snp_per_sample = [1 + random.gamma(alpha_per_sample[sample], beta_per_sample[sample], 200*100) \n",
    "                                 for sample in range(num_dist_samples)]\n",
    "mean_gamma_bias_per_sample = [mean(2. / (1 + gamma_bias_per_snp)) \n",
    "                              for gamma_bias_per_snp in gamma_bias_per_snp_per_sample]\n",
    "\n",
    "figsize(6, 4)\n",
    "#show statistics and distribution for bias across samples\n",
    "print 'all samples:'\n",
    "print 'mean =', mean(mean_gamma_bias_per_sample), 'std =', std(mean_gamma_bias_per_sample)\n",
    "print 'min =', min(mean_gamma_bias_per_sample), 'max =', max(mean_gamma_bias_per_sample)\n",
    "hist(mean_gamma_bias_per_sample)\n",
    "xlabel(r'$\\langle\\gamma\\rangle_{snps}$', fontsize=16)\n",
    "show()\n",
    "print\n",
    "\n",
    "#show statistics and distribution for bias across snps in a few individual samples\n",
    "for sample, gamma_bias_per_snp in enumerate(gamma_bias_per_snp_per_sample[:5]):\n",
    "    print 'sample ' + str(sample) + ':'\n",
    "    print 'alpha =', alpha_per_sample[sample], 'beta =', beta_per_sample[sample]\n",
    "    print 'mean =', mean(2. / (1 + gamma_bias_per_snp)), 'std =', std(2. / (1 + gamma_bias_per_snp))\n",
    "    print 'min =', min(2. / (1 + gamma_bias_per_snp)), 'max =', max(2. / (1 + gamma_bias_per_snp))\n",
    "    hist(2. / (1 + gamma_bias_per_snp), bins=20)\n",
    "    xlabel(r'$\\gamma$', fontsize=16)\n",
    "    show()\n",
    "    print\n",
    "show()"
   ]
  }
 ],
 "metadata": {
  "kernelspec": {
   "display_name": "Python 2",
   "language": "python",
   "name": "python2"
  },
  "language_info": {
   "codemirror_mode": {
    "name": "ipython",
    "version": 2
   },
   "file_extension": ".py",
   "mimetype": "text/x-python",
   "name": "python",
   "nbconvert_exporter": "python",
   "pygments_lexer": "ipython2",
   "version": "2.7.6"
  }
 },
 "nbformat": 4,
 "nbformat_minor": 0
}
